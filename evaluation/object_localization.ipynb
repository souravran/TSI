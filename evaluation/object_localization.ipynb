{
 "cells": [
  {
   "cell_type": "markdown",
   "metadata": {},
   "source": [
    "# Darkflow"
   ]
  },
  {
   "cell_type": "markdown",
   "metadata": {},
   "source": [
    "## Model preparation "
   ]
  },
  {
   "cell_type": "code",
   "execution_count": 10,
   "metadata": {},
   "outputs": [
    {
     "name": "stdout",
     "output_type": "stream",
     "text": [
      "Parsing models/yolo_v2/yolo_v2.cfg\n",
      "Loading None ...\n",
      "Finished in 0.00011587142944335938s\n",
      "\n",
      "Building net ...\n",
      "Source | Train? | Layer description                | Output size\n",
      "-------+--------+----------------------------------+---------------\n",
      "       |        | input                            | (?, 608, 608, 3)\n",
      " Init  |  Yep!  | conv 3x3p1_1  +bnorm  leaky      | (?, 608, 608, 32)\n",
      " Load  |  Yep!  | maxp 2x2p0_2                     | (?, 304, 304, 32)\n",
      " Init  |  Yep!  | conv 3x3p1_1  +bnorm  leaky      | (?, 304, 304, 64)\n",
      " Load  |  Yep!  | maxp 2x2p0_2                     | (?, 152, 152, 64)\n",
      " Init  |  Yep!  | conv 3x3p1_1  +bnorm  leaky      | (?, 152, 152, 128)\n",
      " Init  |  Yep!  | conv 1x1p0_1  +bnorm  leaky      | (?, 152, 152, 64)\n",
      " Init  |  Yep!  | conv 3x3p1_1  +bnorm  leaky      | (?, 152, 152, 128)\n",
      " Load  |  Yep!  | maxp 2x2p0_2                     | (?, 76, 76, 128)\n",
      " Init  |  Yep!  | conv 3x3p1_1  +bnorm  leaky      | (?, 76, 76, 256)\n",
      " Init  |  Yep!  | conv 1x1p0_1  +bnorm  leaky      | (?, 76, 76, 128)\n",
      " Init  |  Yep!  | conv 3x3p1_1  +bnorm  leaky      | (?, 76, 76, 256)\n",
      " Load  |  Yep!  | maxp 2x2p0_2                     | (?, 38, 38, 256)\n",
      " Init  |  Yep!  | conv 3x3p1_1  +bnorm  leaky      | (?, 38, 38, 512)\n",
      " Init  |  Yep!  | conv 1x1p0_1  +bnorm  leaky      | (?, 38, 38, 256)\n",
      " Init  |  Yep!  | conv 3x3p1_1  +bnorm  leaky      | (?, 38, 38, 512)\n",
      " Init  |  Yep!  | conv 1x1p0_1  +bnorm  leaky      | (?, 38, 38, 256)\n",
      " Init  |  Yep!  | conv 3x3p1_1  +bnorm  leaky      | (?, 38, 38, 512)\n",
      " Load  |  Yep!  | maxp 2x2p0_2                     | (?, 19, 19, 512)\n",
      " Init  |  Yep!  | conv 3x3p1_1  +bnorm  leaky      | (?, 19, 19, 1024)\n",
      " Init  |  Yep!  | conv 1x1p0_1  +bnorm  leaky      | (?, 19, 19, 512)\n",
      " Init  |  Yep!  | conv 3x3p1_1  +bnorm  leaky      | (?, 19, 19, 1024)\n",
      " Init  |  Yep!  | conv 1x1p0_1  +bnorm  leaky      | (?, 19, 19, 512)\n",
      " Init  |  Yep!  | conv 3x3p1_1  +bnorm  leaky      | (?, 19, 19, 1024)\n",
      " Init  |  Yep!  | conv 3x3p1_1  +bnorm  leaky      | (?, 19, 19, 1024)\n",
      " Init  |  Yep!  | conv 3x3p1_1  +bnorm  leaky      | (?, 19, 19, 1024)\n",
      " Load  |  Yep!  | concat [16]                      | (?, 38, 38, 512)\n",
      " Init  |  Yep!  | conv 1x1p0_1  +bnorm  leaky      | (?, 38, 38, 64)\n",
      " Load  |  Yep!  | local flatten 2x2                | (?, 19, 19, 256)\n",
      " Load  |  Yep!  | concat [27, 24]                  | (?, 19, 19, 1280)\n",
      " Init  |  Yep!  | conv 3x3p1_1  +bnorm  leaky      | (?, 19, 19, 1024)\n",
      " Init  |  Yep!  | conv 1x1p0_1    linear           | (?, 19, 19, 40)\n",
      "-------+--------+----------------------------------+---------------\n",
      "GPU mode with 1.0 usage\n",
      "Loading from models/yolo_v2/yolo_v2-50500\n",
      "INFO:tensorflow:Restoring parameters from models/yolo_v2/yolo_v2-50500\n",
      "Finished in 5.081051588058472s\n",
      "\n"
     ]
    }
   ],
   "source": [
    "from darkflow.net.build import TFNet\n",
    "import cv2\n",
    "\n",
    "MODEL_NAME = 'yolo_v2'\n",
    "MODEL_PATH = os.path.join('models', MODEL_NAME)\n",
    "\n",
    "options = {'model': os.path.join(MODEL_PATH, '{}.cfg'.format(MODEL_NAME)),\n",
    "           'labels': os.path.join(MODEL_PATH, 'labels.txt'),\n",
    "           'backup': MODEL_PATH,\n",
    "           'load' : 50500,\n",
    "           'threshold': 0.5,\n",
    "           'gpu' : 1.0}\n",
    "\n",
    "tfnet = TFNet(options)"
   ]
  },
  {
   "cell_type": "markdown",
   "metadata": {},
   "source": [
    "## Helper code"
   ]
  },
  {
   "cell_type": "code",
   "execution_count": 11,
   "metadata": {},
   "outputs": [],
   "source": [
    "def plot_rectangle(bbox, ax, class_name, edgecolor, confidence=None):\n",
    "    xmin = bbox[0]\n",
    "    ymin = bbox[1]\n",
    "    xmax = bbox[2]\n",
    "    ymax = bbox[3]\n",
    "    left = xmin\n",
    "    right = xmax\n",
    "    top = ymin\n",
    "    bot = ymax\n",
    "    ax.add_patch(\n",
    "        plt.Rectangle((left, top),\n",
    "                      right-left,\n",
    "                      bot-top, fill=False,\n",
    "                      edgecolor=edgecolor, linewidth=3.5)\n",
    "        )\n",
    "    label = '{:s}'.format(class_name)\n",
    "    label_pos_y = top-10\n",
    "    if confidence:\n",
    "        label += ' {0:.2f}'.format(confidence)\n",
    "        label_pos_y = bot+20\n",
    "    ax.text(left, label_pos_y,label,\n",
    "            bbox=dict(facecolor=edgecolor, alpha=0.5),\n",
    "            fontsize=14, color='white')"
   ]
  },
  {
   "cell_type": "code",
   "execution_count": 12,
   "metadata": {},
   "outputs": [],
   "source": [
    "def get_label_id(label_name):\n",
    "    for category in categories:\n",
    "        if category['name'] == label_name:\n",
    "            return category['id']"
   ]
  },
  {
   "cell_type": "markdown",
   "metadata": {},
   "source": [
    "## Detection"
   ]
  },
  {
   "cell_type": "code",
   "execution_count": null,
   "metadata": {},
   "outputs": [],
   "source": [
    "min_score_thresh = 0.5\n",
    "for image_path in TEST_IMAGE_PATHS:\n",
    "    fig, ax = plt.subplots(figsize=(20, 20))\n",
    "    image = Image.open(image_path)\n",
    "    image_name = os.path.basename(image_path)\n",
    "    width, height = image.size\n",
    "    #ax.imshow(image)\n",
    "    \n",
    "    image_np = load_image_into_numpy_array(image)\n",
    "    image_np = image_np[:,:,::-1] # rgb -> bgr\n",
    "    pred_results = tfnet.return_predict(image_np)\n",
    "\n",
    "    for idx, det in enumerate(pred_results):\n",
    "        score = det['confidence']\n",
    "        if score > min_score_thresh:\n",
    "            bbox = det['topleft']['x'], det['topleft']['y'], det['bottomright']['x'], det['bottomright']['y']\n",
    "            label = get_label_id(det['label'])\n",
    "            plot_rectangle(bbox,ax,category_index[label]['name'],'red', score)\n",
    "    plt.draw()\n",
    "    fig.tight_layout()\n",
    "    plt.axis('off')\n",
    "    plt.show()"
   ]
  }
 ],
 "metadata": {
  "anaconda-cloud": {},
  "kernelspec": {
   "display_name": "Python 3 (ipykernel)",
   "language": "python",
   "name": "python3"
  },
  "language_info": {
   "codemirror_mode": {
    "name": "ipython",
    "version": 3
   },
   "file_extension": ".py",
   "mimetype": "text/x-python",
   "name": "python",
   "nbconvert_exporter": "python",
   "pygments_lexer": "ipython3",
   "version": "3.8.8"
  }
 },
 "nbformat": 4,
 "nbformat_minor": 2
}
